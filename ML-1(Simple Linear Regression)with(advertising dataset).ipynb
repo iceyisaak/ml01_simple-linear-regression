{
 "cells": [
  {
   "cell_type": "markdown",
   "id": "vocational-shopper",
   "metadata": {
    "id": "vocational-shopper"
   },
   "source": [
    "# Simple Linear Regression - Supervised Model"
   ]
  },
  {
   "cell_type": "markdown",
   "id": "lesbian-fluid",
   "metadata": {
    "id": "lesbian-fluid"
   },
   "source": [
    "## Import Library"
   ]
  },
  {
   "cell_type": "code",
   "execution_count": 2,
   "id": "bottom-parish",
   "metadata": {
    "executionInfo": {
     "elapsed": 9203,
     "status": "ok",
     "timestamp": 1737324815900,
     "user": {
      "displayName": "Benjamin Shaffrey",
      "userId": "11834509589280461112"
     },
     "user_tz": -60
    },
    "id": "bottom-parish"
   },
   "outputs": [],
   "source": [
    "import numpy as np\n",
    "import pandas as pd\n",
    "import matplotlib.pyplot as plt\n",
    "import seaborn as sns\n",
    "plt.rcParams[\"figure.figsize\"] = (10,6) # Set default figure size\n",
    "%matplotlib inline"
   ]
  },
  {
   "cell_type": "markdown",
   "id": "thick-anderson",
   "metadata": {
    "id": "thick-anderson"
   },
   "source": [
    "## Read Dataset"
   ]
  },
  {
   "cell_type": "code",
   "execution_count": 3,
   "id": "f55b7640",
   "metadata": {
    "colab": {
     "base_uri": "https://localhost:8080/",
     "height": 424
    },
    "executionInfo": {
     "elapsed": 263,
     "status": "ok",
     "timestamp": 1737324906385,
     "user": {
      "displayName": "Benjamin Shaffrey",
      "userId": "11834509589280461112"
     },
     "user_tz": -60
    },
    "id": "f55b7640",
    "outputId": "cb37fab8-4be0-4094-835a-aae159724f8d"
   },
   "outputs": [
    {
     "data": {
      "text/html": [
       "<div>\n",
       "<style scoped>\n",
       "    .dataframe tbody tr th:only-of-type {\n",
       "        vertical-align: middle;\n",
       "    }\n",
       "\n",
       "    .dataframe tbody tr th {\n",
       "        vertical-align: top;\n",
       "    }\n",
       "\n",
       "    .dataframe thead th {\n",
       "        text-align: right;\n",
       "    }\n",
       "</style>\n",
       "<table border=\"1\" class=\"dataframe\">\n",
       "  <thead>\n",
       "    <tr style=\"text-align: right;\">\n",
       "      <th></th>\n",
       "      <th>TV</th>\n",
       "      <th>radio</th>\n",
       "      <th>newspaper</th>\n",
       "      <th>sales</th>\n",
       "    </tr>\n",
       "  </thead>\n",
       "  <tbody>\n",
       "    <tr>\n",
       "      <th>0</th>\n",
       "      <td>230.1</td>\n",
       "      <td>37.8</td>\n",
       "      <td>69.2</td>\n",
       "      <td>22.1</td>\n",
       "    </tr>\n",
       "    <tr>\n",
       "      <th>1</th>\n",
       "      <td>44.5</td>\n",
       "      <td>39.3</td>\n",
       "      <td>45.1</td>\n",
       "      <td>10.4</td>\n",
       "    </tr>\n",
       "    <tr>\n",
       "      <th>2</th>\n",
       "      <td>17.2</td>\n",
       "      <td>45.9</td>\n",
       "      <td>69.3</td>\n",
       "      <td>9.3</td>\n",
       "    </tr>\n",
       "    <tr>\n",
       "      <th>3</th>\n",
       "      <td>151.5</td>\n",
       "      <td>41.3</td>\n",
       "      <td>58.5</td>\n",
       "      <td>18.5</td>\n",
       "    </tr>\n",
       "    <tr>\n",
       "      <th>4</th>\n",
       "      <td>180.8</td>\n",
       "      <td>10.8</td>\n",
       "      <td>58.4</td>\n",
       "      <td>12.9</td>\n",
       "    </tr>\n",
       "    <tr>\n",
       "      <th>...</th>\n",
       "      <td>...</td>\n",
       "      <td>...</td>\n",
       "      <td>...</td>\n",
       "      <td>...</td>\n",
       "    </tr>\n",
       "    <tr>\n",
       "      <th>195</th>\n",
       "      <td>38.2</td>\n",
       "      <td>3.7</td>\n",
       "      <td>13.8</td>\n",
       "      <td>7.6</td>\n",
       "    </tr>\n",
       "    <tr>\n",
       "      <th>196</th>\n",
       "      <td>94.2</td>\n",
       "      <td>4.9</td>\n",
       "      <td>8.1</td>\n",
       "      <td>9.7</td>\n",
       "    </tr>\n",
       "    <tr>\n",
       "      <th>197</th>\n",
       "      <td>177.0</td>\n",
       "      <td>9.3</td>\n",
       "      <td>6.4</td>\n",
       "      <td>12.8</td>\n",
       "    </tr>\n",
       "    <tr>\n",
       "      <th>198</th>\n",
       "      <td>283.6</td>\n",
       "      <td>42.0</td>\n",
       "      <td>66.2</td>\n",
       "      <td>25.5</td>\n",
       "    </tr>\n",
       "    <tr>\n",
       "      <th>199</th>\n",
       "      <td>232.1</td>\n",
       "      <td>8.6</td>\n",
       "      <td>8.7</td>\n",
       "      <td>13.4</td>\n",
       "    </tr>\n",
       "  </tbody>\n",
       "</table>\n",
       "<p>200 rows × 4 columns</p>\n",
       "</div>"
      ],
      "text/plain": [
       "        TV  radio  newspaper  sales\n",
       "0    230.1   37.8       69.2   22.1\n",
       "1     44.5   39.3       45.1   10.4\n",
       "2     17.2   45.9       69.3    9.3\n",
       "3    151.5   41.3       58.5   18.5\n",
       "4    180.8   10.8       58.4   12.9\n",
       "..     ...    ...        ...    ...\n",
       "195   38.2    3.7       13.8    7.6\n",
       "196   94.2    4.9        8.1    9.7\n",
       "197  177.0    9.3        6.4   12.8\n",
       "198  283.6   42.0       66.2   25.5\n",
       "199  232.1    8.6        8.7   13.4\n",
       "\n",
       "[200 rows x 4 columns]"
      ]
     },
     "execution_count": 3,
     "metadata": {},
     "output_type": "execute_result"
    }
   ],
   "source": [
    "df = pd.read_csv(\"Advertising.csv\")\n",
    "df"
   ]
  },
  {
   "cell_type": "markdown",
   "id": "854f7be2",
   "metadata": {
    "id": "854f7be2"
   },
   "source": [
    "independent variable = feature = estimator = attribute = input = explanatory variable\n",
    "\n",
    "dependent variable = target  = label = output = response variable\n",
    "\n",
    "rows = observation, sample\n",
    "\n",
    "**features** = {TV, radio, newspaper}\n",
    "\n",
    "**target** = sales"
   ]
  },
  {
   "cell_type": "code",
   "execution_count": 4,
   "id": "ff1d1282",
   "metadata": {
    "colab": {
     "base_uri": "https://localhost:8080/"
    },
    "executionInfo": {
     "elapsed": 222,
     "status": "ok",
     "timestamp": 1737324911110,
     "user": {
      "displayName": "Benjamin Shaffrey",
      "userId": "11834509589280461112"
     },
     "user_tz": -60
    },
    "id": "ff1d1282",
    "outputId": "eb5eb2a5-7938-470c-c25b-2fb0c68694be"
   },
   "outputs": [
    {
     "name": "stdout",
     "output_type": "stream",
     "text": [
      "<class 'pandas.core.frame.DataFrame'>\n",
      "RangeIndex: 200 entries, 0 to 199\n",
      "Data columns (total 4 columns):\n",
      " #   Column     Non-Null Count  Dtype  \n",
      "---  ------     --------------  -----  \n",
      " 0   TV         200 non-null    float64\n",
      " 1   radio      200 non-null    float64\n",
      " 2   newspaper  200 non-null    float64\n",
      " 3   sales      200 non-null    float64\n",
      "dtypes: float64(4)\n",
      "memory usage: 6.4 KB\n"
     ]
    }
   ],
   "source": [
    "df.info()"
   ]
  },
  {
   "cell_type": "code",
   "execution_count": 5,
   "id": "0a619716",
   "metadata": {
    "colab": {
     "base_uri": "https://localhost:8080/",
     "height": 300
    },
    "executionInfo": {
     "elapsed": 217,
     "status": "ok",
     "timestamp": 1737324913810,
     "user": {
      "displayName": "Benjamin Shaffrey",
      "userId": "11834509589280461112"
     },
     "user_tz": -60
    },
    "id": "0a619716",
    "outputId": "f39c011e-ae3f-4c26-9d1f-f0eb2e86c53c"
   },
   "outputs": [
    {
     "data": {
      "text/html": [
       "<div>\n",
       "<style scoped>\n",
       "    .dataframe tbody tr th:only-of-type {\n",
       "        vertical-align: middle;\n",
       "    }\n",
       "\n",
       "    .dataframe tbody tr th {\n",
       "        vertical-align: top;\n",
       "    }\n",
       "\n",
       "    .dataframe thead th {\n",
       "        text-align: right;\n",
       "    }\n",
       "</style>\n",
       "<table border=\"1\" class=\"dataframe\">\n",
       "  <thead>\n",
       "    <tr style=\"text-align: right;\">\n",
       "      <th></th>\n",
       "      <th>TV</th>\n",
       "      <th>radio</th>\n",
       "      <th>newspaper</th>\n",
       "      <th>sales</th>\n",
       "    </tr>\n",
       "  </thead>\n",
       "  <tbody>\n",
       "    <tr>\n",
       "      <th>count</th>\n",
       "      <td>200.000000</td>\n",
       "      <td>200.000000</td>\n",
       "      <td>200.000000</td>\n",
       "      <td>200.000000</td>\n",
       "    </tr>\n",
       "    <tr>\n",
       "      <th>mean</th>\n",
       "      <td>147.042500</td>\n",
       "      <td>23.264000</td>\n",
       "      <td>30.554000</td>\n",
       "      <td>14.022500</td>\n",
       "    </tr>\n",
       "    <tr>\n",
       "      <th>std</th>\n",
       "      <td>85.854236</td>\n",
       "      <td>14.846809</td>\n",
       "      <td>21.778621</td>\n",
       "      <td>5.217457</td>\n",
       "    </tr>\n",
       "    <tr>\n",
       "      <th>min</th>\n",
       "      <td>0.700000</td>\n",
       "      <td>0.000000</td>\n",
       "      <td>0.300000</td>\n",
       "      <td>1.600000</td>\n",
       "    </tr>\n",
       "    <tr>\n",
       "      <th>25%</th>\n",
       "      <td>74.375000</td>\n",
       "      <td>9.975000</td>\n",
       "      <td>12.750000</td>\n",
       "      <td>10.375000</td>\n",
       "    </tr>\n",
       "    <tr>\n",
       "      <th>50%</th>\n",
       "      <td>149.750000</td>\n",
       "      <td>22.900000</td>\n",
       "      <td>25.750000</td>\n",
       "      <td>12.900000</td>\n",
       "    </tr>\n",
       "    <tr>\n",
       "      <th>75%</th>\n",
       "      <td>218.825000</td>\n",
       "      <td>36.525000</td>\n",
       "      <td>45.100000</td>\n",
       "      <td>17.400000</td>\n",
       "    </tr>\n",
       "    <tr>\n",
       "      <th>max</th>\n",
       "      <td>296.400000</td>\n",
       "      <td>49.600000</td>\n",
       "      <td>114.000000</td>\n",
       "      <td>27.000000</td>\n",
       "    </tr>\n",
       "  </tbody>\n",
       "</table>\n",
       "</div>"
      ],
      "text/plain": [
       "               TV       radio   newspaper       sales\n",
       "count  200.000000  200.000000  200.000000  200.000000\n",
       "mean   147.042500   23.264000   30.554000   14.022500\n",
       "std     85.854236   14.846809   21.778621    5.217457\n",
       "min      0.700000    0.000000    0.300000    1.600000\n",
       "25%     74.375000    9.975000   12.750000   10.375000\n",
       "50%    149.750000   22.900000   25.750000   12.900000\n",
       "75%    218.825000   36.525000   45.100000   17.400000\n",
       "max    296.400000   49.600000  114.000000   27.000000"
      ]
     },
     "execution_count": 5,
     "metadata": {},
     "output_type": "execute_result"
    }
   ],
   "source": [
    "df.describe()\n",
    "# Pay attention to the mean/std/min/50%/max values of numeric features.\n",
    "# Can help realise underlying distribution/outlier situation"
   ]
  },
  {
   "cell_type": "code",
   "execution_count": 6,
   "id": "4b75f0c4",
   "metadata": {
    "colab": {
     "base_uri": "https://localhost:8080/"
    },
    "executionInfo": {
     "elapsed": 204,
     "status": "ok",
     "timestamp": 1737324919424,
     "user": {
      "displayName": "Benjamin Shaffrey",
      "userId": "11834509589280461112"
     },
     "user_tz": -60
    },
    "id": "4b75f0c4",
    "outputId": "82a86b5c-a240-45bf-f1eb-db7b6cf3cb05"
   },
   "outputs": [
    {
     "name": "stdout",
     "output_type": "stream",
     "text": [
      "mean : 182.5\n",
      "std  : 125.77261228105267\n"
     ]
    }
   ],
   "source": [
    "# decriptive statistics in case of 1 outlier\n",
    "print(\"mean :\", np.mean([100, 110, 120, 400]))\n",
    "print(\"std  :\", np.std([100, 110, 120, 400]))"
   ]
  },
  {
   "cell_type": "code",
   "execution_count": 7,
   "id": "a69afdfd",
   "metadata": {
    "colab": {
     "base_uri": "https://localhost:8080/"
    },
    "executionInfo": {
     "elapsed": 256,
     "status": "ok",
     "timestamp": 1737324927114,
     "user": {
      "displayName": "Benjamin Shaffrey",
      "userId": "11834509589280461112"
     },
     "user_tz": -60
    },
    "id": "a69afdfd",
    "outputId": "dd2e5ec7-c961-4e85-b6c0-4796d87f2fd0"
   },
   "outputs": [
    {
     "name": "stdout",
     "output_type": "stream",
     "text": [
      "mean : 257.5\n",
      "std  : 255.57533136044253\n"
     ]
    }
   ],
   "source": [
    "# decriptive statistics in case of a larger outlier\n",
    "# notice std got closer to the mean\n",
    "print(\"mean :\", np.mean([100, 110, 120, 700]))\n",
    "print(\"std  :\", np.std([100, 110, 120, 700]))"
   ]
  },
  {
   "cell_type": "code",
   "execution_count": 8,
   "id": "e17f38d3",
   "metadata": {
    "colab": {
     "base_uri": "https://localhost:8080/"
    },
    "executionInfo": {
     "elapsed": 184,
     "status": "ok",
     "timestamp": 1737324940057,
     "user": {
      "displayName": "Benjamin Shaffrey",
      "userId": "11834509589280461112"
     },
     "user_tz": -60
    },
    "id": "e17f38d3",
    "outputId": "0a316698-3962-4536-876c-fcbcc20a9648"
   },
   "outputs": [
    {
     "name": "stdout",
     "output_type": "stream",
     "text": [
      "mean : 307.5\n",
      "std  : 342.153109002388\n"
     ]
    }
   ],
   "source": [
    "# decriptive statistics in case of even a larger outlier\n",
    "# std got larger than the mean\n",
    "print(\"mean :\", np.mean([100, 110, 120, 900]))\n",
    "print(\"std  :\", np.std([100, 110, 120, 900]))"
   ]
  },
  {
   "cell_type": "code",
   "execution_count": 9,
   "id": "d9eff2a4",
   "metadata": {
    "colab": {
     "base_uri": "https://localhost:8080/",
     "height": 542
    },
    "executionInfo": {
     "elapsed": 508,
     "status": "ok",
     "timestamp": 1737324943992,
     "user": {
      "displayName": "Benjamin Shaffrey",
      "userId": "11834509589280461112"
     },
     "user_tz": -60
    },
    "id": "d9eff2a4",
    "outputId": "0df014bc-7bc2-4a7f-d6d4-17b850bfbfe0"
   },
   "outputs": [],
   "source": [
    "sns.histplot(df.TV, bins=50, kde=True);\n",
    "\n",
    "# The histogram of a numerical feature can be checked to see\n",
    "# the distribution of the variable. Doesn't necessarily impact the model performance\n",
    "# if the variable is not normally distributed, however, can help understand the variable."
   ]
  },
  {
   "cell_type": "code",
   "execution_count": 10,
   "id": "346539db",
   "metadata": {
    "colab": {
     "base_uri": "https://localhost:8080/",
     "height": 520
    },
    "executionInfo": {
     "elapsed": 642,
     "status": "ok",
     "timestamp": 1737324965626,
     "user": {
      "displayName": "Benjamin Shaffrey",
      "userId": "11834509589280461112"
     },
     "user_tz": -60
    },
    "id": "346539db",
    "outputId": "ec2d711d-41e2-4a9a-98ea-649b3729cc77"
   },
   "outputs": [
    {
     "data": {
      "text/plain": [
       "<Axes: xlabel='TV', ylabel='Count'>"
      ]
     },
     "execution_count": 10,
     "metadata": {},
     "output_type": "execute_result"
    }
   ],
   "source": [
    "sns.boxplot(df.TV)\n",
    "\n",
    "# boxplot also tells us about the 25%/median/75% of the variable as well as\n",
    "# any potential outliers (data points that end up outside of the whiskers)\n",
    "\n",
    "# In ML, in contrast to statistics, outliers do not mean something is problematic \n",
    "# unless there was a systematic failure in data gathering process.\n",
    "# The only thing we care about is if there are under-represented observation points."
   ]
  },
  {
   "cell_type": "markdown",
   "id": "spectacular-algebra",
   "metadata": {
    "id": "spectacular-algebra"
   },
   "source": [
    "## Create new independent variable (feature)"
   ]
  },
  {
   "cell_type": "code",
   "execution_count": 11,
   "id": "12cf01cb",
   "metadata": {
    "executionInfo": {
     "elapsed": 207,
     "status": "ok",
     "timestamp": 1737325074862,
     "user": {
      "displayName": "Benjamin Shaffrey",
      "userId": "11834509589280461112"
     },
     "user_tz": -60
    },
    "id": "12cf01cb"
   },
   "outputs": [],
   "source": [
    "df[\"total_spend\"] = df[\"TV\"] + df[\"radio\"] + df[\"newspaper\"]\n",
    "# Feature engineering also includes methods of deriving new variables from the ones we already have"
   ]
  },
  {
   "cell_type": "code",
   "execution_count": 12,
   "id": "65bdf4dc",
   "metadata": {
    "colab": {
     "base_uri": "https://localhost:8080/",
     "height": 424
    },
    "executionInfo": {
     "elapsed": 253,
     "status": "ok",
     "timestamp": 1737325076763,
     "user": {
      "displayName": "Benjamin Shaffrey",
      "userId": "11834509589280461112"
     },
     "user_tz": -60
    },
    "id": "65bdf4dc",
    "outputId": "532eb0d9-d940-4c80-e500-a5c6444d3061"
   },
   "outputs": [
    {
     "data": {
      "text/html": [
       "<div>\n",
       "<style scoped>\n",
       "    .dataframe tbody tr th:only-of-type {\n",
       "        vertical-align: middle;\n",
       "    }\n",
       "\n",
       "    .dataframe tbody tr th {\n",
       "        vertical-align: top;\n",
       "    }\n",
       "\n",
       "    .dataframe thead th {\n",
       "        text-align: right;\n",
       "    }\n",
       "</style>\n",
       "<table border=\"1\" class=\"dataframe\">\n",
       "  <thead>\n",
       "    <tr style=\"text-align: right;\">\n",
       "      <th></th>\n",
       "      <th>TV</th>\n",
       "      <th>radio</th>\n",
       "      <th>newspaper</th>\n",
       "      <th>sales</th>\n",
       "      <th>total_spend</th>\n",
       "    </tr>\n",
       "  </thead>\n",
       "  <tbody>\n",
       "    <tr>\n",
       "      <th>0</th>\n",
       "      <td>230.1</td>\n",
       "      <td>37.8</td>\n",
       "      <td>69.2</td>\n",
       "      <td>22.1</td>\n",
       "      <td>337.1</td>\n",
       "    </tr>\n",
       "    <tr>\n",
       "      <th>1</th>\n",
       "      <td>44.5</td>\n",
       "      <td>39.3</td>\n",
       "      <td>45.1</td>\n",
       "      <td>10.4</td>\n",
       "      <td>128.9</td>\n",
       "    </tr>\n",
       "    <tr>\n",
       "      <th>2</th>\n",
       "      <td>17.2</td>\n",
       "      <td>45.9</td>\n",
       "      <td>69.3</td>\n",
       "      <td>9.3</td>\n",
       "      <td>132.4</td>\n",
       "    </tr>\n",
       "    <tr>\n",
       "      <th>3</th>\n",
       "      <td>151.5</td>\n",
       "      <td>41.3</td>\n",
       "      <td>58.5</td>\n",
       "      <td>18.5</td>\n",
       "      <td>251.3</td>\n",
       "    </tr>\n",
       "    <tr>\n",
       "      <th>4</th>\n",
       "      <td>180.8</td>\n",
       "      <td>10.8</td>\n",
       "      <td>58.4</td>\n",
       "      <td>12.9</td>\n",
       "      <td>250.0</td>\n",
       "    </tr>\n",
       "    <tr>\n",
       "      <th>...</th>\n",
       "      <td>...</td>\n",
       "      <td>...</td>\n",
       "      <td>...</td>\n",
       "      <td>...</td>\n",
       "      <td>...</td>\n",
       "    </tr>\n",
       "    <tr>\n",
       "      <th>195</th>\n",
       "      <td>38.2</td>\n",
       "      <td>3.7</td>\n",
       "      <td>13.8</td>\n",
       "      <td>7.6</td>\n",
       "      <td>55.7</td>\n",
       "    </tr>\n",
       "    <tr>\n",
       "      <th>196</th>\n",
       "      <td>94.2</td>\n",
       "      <td>4.9</td>\n",
       "      <td>8.1</td>\n",
       "      <td>9.7</td>\n",
       "      <td>107.2</td>\n",
       "    </tr>\n",
       "    <tr>\n",
       "      <th>197</th>\n",
       "      <td>177.0</td>\n",
       "      <td>9.3</td>\n",
       "      <td>6.4</td>\n",
       "      <td>12.8</td>\n",
       "      <td>192.7</td>\n",
       "    </tr>\n",
       "    <tr>\n",
       "      <th>198</th>\n",
       "      <td>283.6</td>\n",
       "      <td>42.0</td>\n",
       "      <td>66.2</td>\n",
       "      <td>25.5</td>\n",
       "      <td>391.8</td>\n",
       "    </tr>\n",
       "    <tr>\n",
       "      <th>199</th>\n",
       "      <td>232.1</td>\n",
       "      <td>8.6</td>\n",
       "      <td>8.7</td>\n",
       "      <td>13.4</td>\n",
       "      <td>249.4</td>\n",
       "    </tr>\n",
       "  </tbody>\n",
       "</table>\n",
       "<p>200 rows × 5 columns</p>\n",
       "</div>"
      ],
      "text/plain": [
       "        TV  radio  newspaper  sales  total_spend\n",
       "0    230.1   37.8       69.2   22.1        337.1\n",
       "1     44.5   39.3       45.1   10.4        128.9\n",
       "2     17.2   45.9       69.3    9.3        132.4\n",
       "3    151.5   41.3       58.5   18.5        251.3\n",
       "4    180.8   10.8       58.4   12.9        250.0\n",
       "..     ...    ...        ...    ...          ...\n",
       "195   38.2    3.7       13.8    7.6         55.7\n",
       "196   94.2    4.9        8.1    9.7        107.2\n",
       "197  177.0    9.3        6.4   12.8        192.7\n",
       "198  283.6   42.0       66.2   25.5        391.8\n",
       "199  232.1    8.6        8.7   13.4        249.4\n",
       "\n",
       "[200 rows x 5 columns]"
      ]
     },
     "execution_count": 12,
     "metadata": {},
     "output_type": "execute_result"
    }
   ],
   "source": [
    "df"
   ]
  },
  {
   "cell_type": "code",
   "execution_count": 13,
   "id": "51447e05",
   "metadata": {
    "colab": {
     "base_uri": "https://localhost:8080/",
     "height": 206
    },
    "executionInfo": {
     "elapsed": 236,
     "status": "ok",
     "timestamp": 1737325085143,
     "user": {
      "displayName": "Benjamin Shaffrey",
      "userId": "11834509589280461112"
     },
     "user_tz": -60
    },
    "id": "51447e05",
    "outputId": "a70369c8-2bcc-447d-ac3c-7b90fe68faff"
   },
   "outputs": [
    {
     "data": {
      "text/html": [
       "<div>\n",
       "<style scoped>\n",
       "    .dataframe tbody tr th:only-of-type {\n",
       "        vertical-align: middle;\n",
       "    }\n",
       "\n",
       "    .dataframe tbody tr th {\n",
       "        vertical-align: top;\n",
       "    }\n",
       "\n",
       "    .dataframe thead th {\n",
       "        text-align: right;\n",
       "    }\n",
       "</style>\n",
       "<table border=\"1\" class=\"dataframe\">\n",
       "  <thead>\n",
       "    <tr style=\"text-align: right;\">\n",
       "      <th></th>\n",
       "      <th>TV</th>\n",
       "      <th>radio</th>\n",
       "      <th>newspaper</th>\n",
       "      <th>total_spend</th>\n",
       "      <th>sales</th>\n",
       "    </tr>\n",
       "  </thead>\n",
       "  <tbody>\n",
       "    <tr>\n",
       "      <th>0</th>\n",
       "      <td>230.1</td>\n",
       "      <td>37.8</td>\n",
       "      <td>69.2</td>\n",
       "      <td>337.1</td>\n",
       "      <td>22.1</td>\n",
       "    </tr>\n",
       "    <tr>\n",
       "      <th>1</th>\n",
       "      <td>44.5</td>\n",
       "      <td>39.3</td>\n",
       "      <td>45.1</td>\n",
       "      <td>128.9</td>\n",
       "      <td>10.4</td>\n",
       "    </tr>\n",
       "    <tr>\n",
       "      <th>2</th>\n",
       "      <td>17.2</td>\n",
       "      <td>45.9</td>\n",
       "      <td>69.3</td>\n",
       "      <td>132.4</td>\n",
       "      <td>9.3</td>\n",
       "    </tr>\n",
       "    <tr>\n",
       "      <th>3</th>\n",
       "      <td>151.5</td>\n",
       "      <td>41.3</td>\n",
       "      <td>58.5</td>\n",
       "      <td>251.3</td>\n",
       "      <td>18.5</td>\n",
       "    </tr>\n",
       "    <tr>\n",
       "      <th>4</th>\n",
       "      <td>180.8</td>\n",
       "      <td>10.8</td>\n",
       "      <td>58.4</td>\n",
       "      <td>250.0</td>\n",
       "      <td>12.9</td>\n",
       "    </tr>\n",
       "  </tbody>\n",
       "</table>\n",
       "</div>"
      ],
      "text/plain": [
       "      TV  radio  newspaper  total_spend  sales\n",
       "0  230.1   37.8       69.2        337.1   22.1\n",
       "1   44.5   39.3       45.1        128.9   10.4\n",
       "2   17.2   45.9       69.3        132.4    9.3\n",
       "3  151.5   41.3       58.5        251.3   18.5\n",
       "4  180.8   10.8       58.4        250.0   12.9"
      ]
     },
     "execution_count": 13,
     "metadata": {},
     "output_type": "execute_result"
    }
   ],
   "source": [
    "df = df.iloc[:,[0,1,2,4,3]]\n",
    "df.head()\n",
    "\n",
    "# Reorder the columns so that our target column (sales) is at the end. Eventually becomes a second nature to look for the target variable."
   ]
  },
  {
   "cell_type": "markdown",
   "id": "funky-joseph",
   "metadata": {
    "id": "funky-joseph"
   },
   "source": [
    "## Which feature is more suitable for linear regression?"
   ]
  },
  {
   "cell_type": "code",
   "execution_count": 14,
   "id": "96518e85",
   "metadata": {
    "colab": {
     "base_uri": "https://localhost:8080/"
    },
    "executionInfo": {
     "elapsed": 208,
     "status": "ok",
     "timestamp": 1737325101641,
     "user": {
      "displayName": "Benjamin Shaffrey",
      "userId": "11834509589280461112"
     },
     "user_tz": -60
    },
    "id": "96518e85",
    "outputId": "4db927bf-2c74-4eda-a61d-de8df2b12ef0"
   },
   "outputs": [
    {
     "data": {
      "text/plain": [
       "0.7822244248616066"
      ]
     },
     "execution_count": 14,
     "metadata": {},
     "output_type": "execute_result"
    }
   ],
   "source": [
    "df[\"sales\"].corr(df[\"TV\"])\n",
    "\n",
    "# We assume that there's a linear relationship between the \n",
    "# independent and dependent variable(s). \n",
    "# \n",
    "# So long as this assumption holds true, the data is more \n",
    "# or less suitable for linear regression."
   ]
  },
  {
   "cell_type": "code",
   "execution_count": 15,
   "id": "5bfaafef",
   "metadata": {
    "colab": {
     "base_uri": "https://localhost:8080/",
     "height": 238
    },
    "executionInfo": {
     "elapsed": 260,
     "status": "ok",
     "timestamp": 1737325116224,
     "user": {
      "displayName": "Benjamin Shaffrey",
      "userId": "11834509589280461112"
     },
     "user_tz": -60
    },
    "id": "5bfaafef",
    "outputId": "be8ba590-9a2e-4ba6-9dd9-14e04da4a212"
   },
   "outputs": [
    {
     "data": {
      "text/html": [
       "<div>\n",
       "<style scoped>\n",
       "    .dataframe tbody tr th:only-of-type {\n",
       "        vertical-align: middle;\n",
       "    }\n",
       "\n",
       "    .dataframe tbody tr th {\n",
       "        vertical-align: top;\n",
       "    }\n",
       "\n",
       "    .dataframe thead th {\n",
       "        text-align: right;\n",
       "    }\n",
       "</style>\n",
       "<table border=\"1\" class=\"dataframe\">\n",
       "  <thead>\n",
       "    <tr style=\"text-align: right;\">\n",
       "      <th></th>\n",
       "      <th>temperature</th>\n",
       "      <th>ice_cream_sale</th>\n",
       "    </tr>\n",
       "  </thead>\n",
       "  <tbody>\n",
       "    <tr>\n",
       "      <th>0</th>\n",
       "      <td>30</td>\n",
       "      <td>50</td>\n",
       "    </tr>\n",
       "    <tr>\n",
       "      <th>1</th>\n",
       "      <td>31</td>\n",
       "      <td>60</td>\n",
       "    </tr>\n",
       "    <tr>\n",
       "      <th>2</th>\n",
       "      <td>32</td>\n",
       "      <td>65</td>\n",
       "    </tr>\n",
       "    <tr>\n",
       "      <th>3</th>\n",
       "      <td>33</td>\n",
       "      <td>70</td>\n",
       "    </tr>\n",
       "    <tr>\n",
       "      <th>4</th>\n",
       "      <td>34</td>\n",
       "      <td>75</td>\n",
       "    </tr>\n",
       "    <tr>\n",
       "      <th>5</th>\n",
       "      <td>35</td>\n",
       "      <td>80</td>\n",
       "    </tr>\n",
       "  </tbody>\n",
       "</table>\n",
       "</div>"
      ],
      "text/plain": [
       "   temperature  ice_cream_sale\n",
       "0           30              50\n",
       "1           31              60\n",
       "2           32              65\n",
       "3           33              70\n",
       "4           34              75\n",
       "5           35              80"
      ]
     },
     "execution_count": 15,
     "metadata": {},
     "output_type": "execute_result"
    }
   ],
   "source": [
    "my_dict = {\"temperature\": [30, 31, 32, 33, 34, 35],\n",
    "           \"ice_cream_sale\": [50, 60, 65, 70, 75, 80]}\n",
    "df1 = pd.DataFrame(my_dict)\n",
    "df1"
   ]
  },
  {
   "cell_type": "code",
   "execution_count": null,
   "id": "99c25555",
   "metadata": {
    "colab": {
     "base_uri": "https://localhost:8080/"
    },
    "executionInfo": {
     "elapsed": 232,
     "status": "ok",
     "timestamp": 1737325121186,
     "user": {
      "displayName": "Benjamin Shaffrey",
      "userId": "11834509589280461112"
     },
     "user_tz": -60
    },
    "id": "99c25555",
    "outputId": "a1bd5433-149c-4533-959d-09c765d236f0"
   },
   "outputs": [
    {
     "data": {
      "text/plain": [
       "0.989743318610787"
      ]
     },
     "execution_count": 16,
     "metadata": {},
     "output_type": "execute_result"
    }
   ],
   "source": [
    "df1.temperature.corr(df1.ice_cream_sale)\n",
    "\n",
    "# Correlation tells us how features correlate. \n",
    "# This doesn't necessarily reflect the impact on the amount of an increase/decrease of a variable on the other.\n",
    "\n",
    "# Regression helps as answer this question: \n",
    "# How much of a change will I see if I change temperature variable by one unit?"
   ]
  },
  {
   "cell_type": "code",
   "execution_count": 17,
   "id": "d5d15bc2",
   "metadata": {
    "colab": {
     "base_uri": "https://localhost:8080/",
     "height": 238
    },
    "executionInfo": {
     "elapsed": 205,
     "status": "ok",
     "timestamp": 1737325125371,
     "user": {
      "displayName": "Benjamin Shaffrey",
      "userId": "11834509589280461112"
     },
     "user_tz": -60
    },
    "id": "d5d15bc2",
    "outputId": "4e9c2c7d-fc56-4f85-d844-04eb625cfc67"
   },
   "outputs": [
    {
     "data": {
      "text/html": [
       "<div>\n",
       "<style scoped>\n",
       "    .dataframe tbody tr th:only-of-type {\n",
       "        vertical-align: middle;\n",
       "    }\n",
       "\n",
       "    .dataframe tbody tr th {\n",
       "        vertical-align: top;\n",
       "    }\n",
       "\n",
       "    .dataframe thead th {\n",
       "        text-align: right;\n",
       "    }\n",
       "</style>\n",
       "<table border=\"1\" class=\"dataframe\">\n",
       "  <thead>\n",
       "    <tr style=\"text-align: right;\">\n",
       "      <th></th>\n",
       "      <th>temperature</th>\n",
       "      <th>ice_cream_sale</th>\n",
       "    </tr>\n",
       "  </thead>\n",
       "  <tbody>\n",
       "    <tr>\n",
       "      <th>0</th>\n",
       "      <td>30</td>\n",
       "      <td>50</td>\n",
       "    </tr>\n",
       "    <tr>\n",
       "      <th>1</th>\n",
       "      <td>31</td>\n",
       "      <td>51</td>\n",
       "    </tr>\n",
       "    <tr>\n",
       "      <th>2</th>\n",
       "      <td>32</td>\n",
       "      <td>53</td>\n",
       "    </tr>\n",
       "    <tr>\n",
       "      <th>3</th>\n",
       "      <td>33</td>\n",
       "      <td>54</td>\n",
       "    </tr>\n",
       "    <tr>\n",
       "      <th>4</th>\n",
       "      <td>34</td>\n",
       "      <td>55</td>\n",
       "    </tr>\n",
       "    <tr>\n",
       "      <th>5</th>\n",
       "      <td>35</td>\n",
       "      <td>56</td>\n",
       "    </tr>\n",
       "  </tbody>\n",
       "</table>\n",
       "</div>"
      ],
      "text/plain": [
       "   temperature  ice_cream_sale\n",
       "0           30              50\n",
       "1           31              51\n",
       "2           32              53\n",
       "3           33              54\n",
       "4           34              55\n",
       "5           35              56"
      ]
     },
     "execution_count": 17,
     "metadata": {},
     "output_type": "execute_result"
    }
   ],
   "source": [
    "my_dict = {\"temperature\": [30, 31, 32, 33, 34, 35],\n",
    "           \"ice_cream_sale\": [50, 51, 53, 54, 55, 56]}\n",
    "df2 = pd.DataFrame(my_dict)\n",
    "df2"
   ]
  },
  {
   "cell_type": "code",
   "execution_count": null,
   "id": "cfdc90f3",
   "metadata": {
    "colab": {
     "base_uri": "https://localhost:8080/"
    },
    "executionInfo": {
     "elapsed": 238,
     "status": "ok",
     "timestamp": 1737325133953,
     "user": {
      "displayName": "Benjamin Shaffrey",
      "userId": "11834509589280461112"
     },
     "user_tz": -60
    },
    "id": "cfdc90f3",
    "outputId": "f7931056-132b-484a-a69b-f5c78bc7df3b"
   },
   "outputs": [
    {
     "data": {
      "text/plain": [
       "0.9921609337929049"
      ]
     },
     "execution_count": 18,
     "metadata": {},
     "output_type": "execute_result"
    }
   ],
   "source": [
    "df2.temperature.corr(df2.ice_cream_sale)\n",
    "\n",
    "# In the first df, regression coefficient is 5, and corr is 0.9821.\n",
    "# In the second df, regression coefficient is 1, and corr is 0.9921.\n",
    "\n",
    "# This proves that correlation doesn't tell us how much a unit of \n",
    "# change in one variable changes the other whereas regression does."
   ]
  },
  {
   "cell_type": "code",
   "execution_count": null,
   "id": "99cee90d",
   "metadata": {
    "colab": {
     "base_uri": "https://localhost:8080/"
    },
    "executionInfo": {
     "elapsed": 237,
     "status": "ok",
     "timestamp": 1737325149267,
     "user": {
      "displayName": "Benjamin Shaffrey",
      "userId": "11834509589280461112"
     },
     "user_tz": -60
    },
    "id": "99cee90d",
    "outputId": "1e406a0f-11bc-4b48-8cab-2e9c88129558"
   },
   "outputs": [
    {
     "name": "stdout",
     "output_type": "stream",
     "text": [
      "corr between sales and TV          :  0.7822244248616066\n",
      "corr between sales and radio       :  0.5762225745710552\n",
      "corr between sales and newspaper   :  0.22829902637616534\n",
      "corr between sales and total_spend :  0.8677123027017418\n"
     ]
    }
   ],
   "source": [
    "for i in df.drop(columns =\"sales\"):\n",
    "    print(f\"corr between sales and {i:<12}:  {df.sales.corr(df[i])}\")\n",
    "\n",
    "# Check which features have high correlation with the target. \n",
    "# Features with high correlations are more useful to use in linear regression."
   ]
  },
  {
   "cell_type": "code",
   "execution_count": 20,
   "id": "74dd544a",
   "metadata": {
    "colab": {
     "base_uri": "https://localhost:8080/",
     "height": 1000
    },
    "executionInfo": {
     "elapsed": 6512,
     "status": "ok",
     "timestamp": 1737325161744,
     "user": {
      "displayName": "Benjamin Shaffrey",
      "userId": "11834509589280461112"
     },
     "user_tz": -60
    },
    "id": "74dd544a",
    "outputId": "344c3bd9-17df-4873-8f9b-e02503e48ffd"
   },
   "outputs": [],
   "source": [
    "sns.pairplot(df, kind=\"reg\");\n",
    "\n",
    "# Pairplot also helps us visualise potential correlations between all features."
   ]
  },
  {
   "cell_type": "code",
   "execution_count": 21,
   "id": "fd3c4ce8",
   "metadata": {
    "colab": {
     "base_uri": "https://localhost:8080/",
     "height": 206
    },
    "executionInfo": {
     "elapsed": 232,
     "status": "ok",
     "timestamp": 1737325181972,
     "user": {
      "displayName": "Benjamin Shaffrey",
      "userId": "11834509589280461112"
     },
     "user_tz": -60
    },
    "id": "fd3c4ce8",
    "outputId": "7eace683-6efe-4514-8556-822364697431"
   },
   "outputs": [
    {
     "data": {
      "text/html": [
       "<div>\n",
       "<style scoped>\n",
       "    .dataframe tbody tr th:only-of-type {\n",
       "        vertical-align: middle;\n",
       "    }\n",
       "\n",
       "    .dataframe tbody tr th {\n",
       "        vertical-align: top;\n",
       "    }\n",
       "\n",
       "    .dataframe thead th {\n",
       "        text-align: right;\n",
       "    }\n",
       "</style>\n",
       "<table border=\"1\" class=\"dataframe\">\n",
       "  <thead>\n",
       "    <tr style=\"text-align: right;\">\n",
       "      <th></th>\n",
       "      <th>TV</th>\n",
       "      <th>radio</th>\n",
       "      <th>newspaper</th>\n",
       "      <th>total_spend</th>\n",
       "      <th>sales</th>\n",
       "    </tr>\n",
       "  </thead>\n",
       "  <tbody>\n",
       "    <tr>\n",
       "      <th>TV</th>\n",
       "      <td>1.000000</td>\n",
       "      <td>0.054809</td>\n",
       "      <td>0.056648</td>\n",
       "      <td>0.945330</td>\n",
       "      <td>0.782224</td>\n",
       "    </tr>\n",
       "    <tr>\n",
       "      <th>radio</th>\n",
       "      <td>0.054809</td>\n",
       "      <td>1.000000</td>\n",
       "      <td>0.354104</td>\n",
       "      <td>0.293211</td>\n",
       "      <td>0.576223</td>\n",
       "    </tr>\n",
       "    <tr>\n",
       "      <th>newspaper</th>\n",
       "      <td>0.056648</td>\n",
       "      <td>0.354104</td>\n",
       "      <td>1.000000</td>\n",
       "      <td>0.343059</td>\n",
       "      <td>0.228299</td>\n",
       "    </tr>\n",
       "    <tr>\n",
       "      <th>total_spend</th>\n",
       "      <td>0.945330</td>\n",
       "      <td>0.293211</td>\n",
       "      <td>0.343059</td>\n",
       "      <td>1.000000</td>\n",
       "      <td>0.867712</td>\n",
       "    </tr>\n",
       "    <tr>\n",
       "      <th>sales</th>\n",
       "      <td>0.782224</td>\n",
       "      <td>0.576223</td>\n",
       "      <td>0.228299</td>\n",
       "      <td>0.867712</td>\n",
       "      <td>1.000000</td>\n",
       "    </tr>\n",
       "  </tbody>\n",
       "</table>\n",
       "</div>"
      ],
      "text/plain": [
       "                   TV     radio  newspaper  total_spend     sales\n",
       "TV           1.000000  0.054809   0.056648     0.945330  0.782224\n",
       "radio        0.054809  1.000000   0.354104     0.293211  0.576223\n",
       "newspaper    0.056648  0.354104   1.000000     0.343059  0.228299\n",
       "total_spend  0.945330  0.293211   0.343059     1.000000  0.867712\n",
       "sales        0.782224  0.576223   0.228299     0.867712  1.000000"
      ]
     },
     "execution_count": 21,
     "metadata": {},
     "output_type": "execute_result"
    }
   ],
   "source": [
    "df.corr()"
   ]
  },
  {
   "cell_type": "code",
   "execution_count": 22,
   "id": "01a397ec",
   "metadata": {
    "colab": {
     "base_uri": "https://localhost:8080/",
     "height": 528
    },
    "executionInfo": {
     "elapsed": 630,
     "status": "ok",
     "timestamp": 1737325190454,
     "user": {
      "displayName": "Benjamin Shaffrey",
      "userId": "11834509589280461112"
     },
     "user_tz": -60
    },
    "id": "01a397ec",
    "outputId": "dbad156e-b4e7-40df-ea09-b965b7b64527"
   },
   "outputs": [],
   "source": [
    "sns.heatmap(df.corr(), annot=True, vmin=-1, vmax=1, cmap='coolwarm');"
   ]
  },
  {
   "cell_type": "code",
   "execution_count": null,
   "id": "8446311e",
   "metadata": {
    "colab": {
     "base_uri": "https://localhost:8080/",
     "height": 424
    },
    "executionInfo": {
     "elapsed": 223,
     "status": "ok",
     "timestamp": 1737325197781,
     "user": {
      "displayName": "Benjamin Shaffrey",
      "userId": "11834509589280461112"
     },
     "user_tz": -60
    },
    "id": "8446311e",
    "outputId": "20d4a0a2-c3c9-456d-cb0c-d28cc7ed37e6"
   },
   "outputs": [
    {
     "data": {
      "text/html": [
       "<div>\n",
       "<style scoped>\n",
       "    .dataframe tbody tr th:only-of-type {\n",
       "        vertical-align: middle;\n",
       "    }\n",
       "\n",
       "    .dataframe tbody tr th {\n",
       "        vertical-align: top;\n",
       "    }\n",
       "\n",
       "    .dataframe thead th {\n",
       "        text-align: right;\n",
       "    }\n",
       "</style>\n",
       "<table border=\"1\" class=\"dataframe\">\n",
       "  <thead>\n",
       "    <tr style=\"text-align: right;\">\n",
       "      <th></th>\n",
       "      <th>total_spend</th>\n",
       "      <th>sales</th>\n",
       "    </tr>\n",
       "  </thead>\n",
       "  <tbody>\n",
       "    <tr>\n",
       "      <th>0</th>\n",
       "      <td>337.1</td>\n",
       "      <td>22.1</td>\n",
       "    </tr>\n",
       "    <tr>\n",
       "      <th>1</th>\n",
       "      <td>128.9</td>\n",
       "      <td>10.4</td>\n",
       "    </tr>\n",
       "    <tr>\n",
       "      <th>2</th>\n",
       "      <td>132.4</td>\n",
       "      <td>9.3</td>\n",
       "    </tr>\n",
       "    <tr>\n",
       "      <th>3</th>\n",
       "      <td>251.3</td>\n",
       "      <td>18.5</td>\n",
       "    </tr>\n",
       "    <tr>\n",
       "      <th>4</th>\n",
       "      <td>250.0</td>\n",
       "      <td>12.9</td>\n",
       "    </tr>\n",
       "    <tr>\n",
       "      <th>...</th>\n",
       "      <td>...</td>\n",
       "      <td>...</td>\n",
       "    </tr>\n",
       "    <tr>\n",
       "      <th>195</th>\n",
       "      <td>55.7</td>\n",
       "      <td>7.6</td>\n",
       "    </tr>\n",
       "    <tr>\n",
       "      <th>196</th>\n",
       "      <td>107.2</td>\n",
       "      <td>9.7</td>\n",
       "    </tr>\n",
       "    <tr>\n",
       "      <th>197</th>\n",
       "      <td>192.7</td>\n",
       "      <td>12.8</td>\n",
       "    </tr>\n",
       "    <tr>\n",
       "      <th>198</th>\n",
       "      <td>391.8</td>\n",
       "      <td>25.5</td>\n",
       "    </tr>\n",
       "    <tr>\n",
       "      <th>199</th>\n",
       "      <td>249.4</td>\n",
       "      <td>13.4</td>\n",
       "    </tr>\n",
       "  </tbody>\n",
       "</table>\n",
       "<p>200 rows × 2 columns</p>\n",
       "</div>"
      ],
      "text/plain": [
       "     total_spend  sales\n",
       "0          337.1   22.1\n",
       "1          128.9   10.4\n",
       "2          132.4    9.3\n",
       "3          251.3   18.5\n",
       "4          250.0   12.9\n",
       "..           ...    ...\n",
       "195         55.7    7.6\n",
       "196        107.2    9.7\n",
       "197        192.7   12.8\n",
       "198        391.8   25.5\n",
       "199        249.4   13.4\n",
       "\n",
       "[200 rows x 2 columns]"
      ]
     },
     "execution_count": 23,
     "metadata": {},
     "output_type": "execute_result"
    }
   ],
   "source": [
    "df = df[[\"total_spend\", \"sales\"]]\n",
    "df\n",
    "\n",
    "# As the feature `total_spend` has the highest correlation\n",
    "# with our target and is a combination of all the other\n",
    "# independent features, we will go ahead and use it as the\n",
    "# only predictor."
   ]
  },
  {
   "cell_type": "markdown",
   "id": "regulation-steering",
   "metadata": {
    "id": "regulation-steering"
   },
   "source": [
    "## Plotting the relationship between independent variable and dependent variable"
   ]
  },
  {
   "cell_type": "code",
   "execution_count": null,
   "id": "59729188",
   "metadata": {
    "colab": {
     "base_uri": "https://localhost:8080/",
     "height": 542
    },
    "executionInfo": {
     "elapsed": 457,
     "status": "ok",
     "timestamp": 1737325203763,
     "user": {
      "displayName": "Benjamin Shaffrey",
      "userId": "11834509589280461112"
     },
     "user_tz": -60
    },
    "id": "59729188",
    "outputId": "8fe02b67-bb5a-4f83-9dc1-75a887e647ee"
   },
   "outputs": [],
   "source": [
    "sns.scatterplot(x=\"total_spend\", y=\"sales\", data=df);\n",
    "\n",
    "# We can also visualise the correlation with scatterplot."
   ]
  },
  {
   "cell_type": "markdown",
   "id": "operational-target",
   "metadata": {
    "id": "operational-target"
   },
   "source": [
    "## Correlation between independent variable and dependent variable"
   ]
  },
  {
   "cell_type": "code",
   "execution_count": 25,
   "id": "cbd5256d",
   "metadata": {
    "colab": {
     "base_uri": "https://localhost:8080/"
    },
    "executionInfo": {
     "elapsed": 213,
     "status": "ok",
     "timestamp": 1737325209584,
     "user": {
      "displayName": "Benjamin Shaffrey",
      "userId": "11834509589280461112"
     },
     "user_tz": -60
    },
    "id": "cbd5256d",
    "outputId": "72aafeb7-539b-4d2c-e507-e76cbd1b5b57"
   },
   "outputs": [
    {
     "data": {
      "text/plain": [
       "0.8677123027017418"
      ]
     },
     "execution_count": 25,
     "metadata": {},
     "output_type": "execute_result"
    }
   ],
   "source": [
    "corr = df[\"sales\"].corr(df[\"total_spend\"])\n",
    "corr"
   ]
  },
  {
   "cell_type": "code",
   "execution_count": 26,
   "id": "d0c4362f",
   "metadata": {
    "colab": {
     "base_uri": "https://localhost:8080/"
    },
    "executionInfo": {
     "elapsed": 218,
     "status": "ok",
     "timestamp": 1737325211713,
     "user": {
      "displayName": "Benjamin Shaffrey",
      "userId": "11834509589280461112"
     },
     "user_tz": -60
    },
    "id": "d0c4362f",
    "outputId": "b264dc2e-48cf-4fa3-f414-d325c64c3e55"
   },
   "outputs": [
    {
     "data": {
      "text/plain": [
       "0.8677123027017419"
      ]
     },
     "execution_count": 26,
     "metadata": {},
     "output_type": "execute_result"
    }
   ],
   "source": [
    "df[\"total_spend\"].corr(df[\"sales\"])\n",
    "\n",
    "# Correlation is completely symmetrical."
   ]
  },
  {
   "cell_type": "markdown",
   "id": "adolescent-mongolia",
   "metadata": {
    "id": "adolescent-mongolia"
   },
   "source": [
    "## Coefficient of determination (R2)"
   ]
  },
  {
   "cell_type": "code",
   "execution_count": null,
   "id": "1af28a7c",
   "metadata": {
    "colab": {
     "base_uri": "https://localhost:8080/"
    },
    "executionInfo": {
     "elapsed": 214,
     "status": "ok",
     "timestamp": 1737325217219,
     "user": {
      "displayName": "Benjamin Shaffrey",
      "userId": "11834509589280461112"
     },
     "user_tz": -60
    },
    "id": "1af28a7c",
    "outputId": "c603ebd5-47a2-4c5f-b8e1-66d581883fd5"
   },
   "outputs": [
    {
     "data": {
      "text/plain": [
       "0.7529246402599592"
      ]
     },
     "execution_count": 27,
     "metadata": {},
     "output_type": "execute_result"
    }
   ],
   "source": [
    "R2_score = corr**2\n",
    "R2_score\n",
    "\n",
    "# R2 score tell us how much of the variation in the target\n",
    "# column can be explained with the independent features we\n",
    "# have at hand.\n",
    "\n",
    "# Statistically [0, 1]\n",
    "# Sklearn [-np.inf, 1]"
   ]
  },
  {
   "cell_type": "markdown",
   "id": "4ad2afd7",
   "metadata": {
    "id": "4ad2afd7"
   },
   "source": [
    "## Linear Regression"
   ]
  },
  {
   "cell_type": "code",
   "execution_count": null,
   "id": "8d827e55",
   "metadata": {
    "colab": {
     "base_uri": "https://localhost:8080/",
     "height": 542
    },
    "executionInfo": {
     "elapsed": 647,
     "status": "ok",
     "timestamp": 1737325221400,
     "user": {
      "displayName": "Benjamin Shaffrey",
      "userId": "11834509589280461112"
     },
     "user_tz": -60
    },
    "id": "8d827e55",
    "outputId": "92aa9556-4f3a-4613-9232-e07641568fd6"
   },
   "outputs": [],
   "source": [
    "sns.regplot(x=\"total_spend\", y=\"sales\", data=df, ci=None);\n",
    "\n",
    "# We can use `regplot` from `seaborn` to fit a regression line\n",
    "# to this data and visualise it as it's only 2D."
   ]
  },
  {
   "cell_type": "markdown",
   "id": "perfect-setting",
   "metadata": {
    "id": "perfect-setting"
   },
   "source": [
    "## Splitting the dataset into X(independent variables) and y (dependent variable)"
   ]
  },
  {
   "cell_type": "code",
   "execution_count": 29,
   "id": "textile-scholar",
   "metadata": {
    "executionInfo": {
     "elapsed": 240,
     "status": "ok",
     "timestamp": 1737325232545,
     "user": {
      "displayName": "Benjamin Shaffrey",
      "userId": "11834509589280461112"
     },
     "user_tz": -60
    },
    "id": "textile-scholar"
   },
   "outputs": [],
   "source": [
    "# y_pred = b1X + b0"
   ]
  },
  {
   "cell_type": "code",
   "execution_count": 30,
   "id": "98c65e5c",
   "metadata": {
    "executionInfo": {
     "elapsed": 241,
     "status": "ok",
     "timestamp": 1737325233676,
     "user": {
      "displayName": "Benjamin Shaffrey",
      "userId": "11834509589280461112"
     },
     "user_tz": -60
    },
    "id": "98c65e5c"
   },
   "outputs": [],
   "source": [
    "X = df[\"total_spend\"]\n",
    "y = df[\"sales\"]"
   ]
  },
  {
   "cell_type": "markdown",
   "id": "printable-exhaust",
   "metadata": {
    "id": "printable-exhaust"
   },
   "source": [
    "## Determination of coefficients (slope and intercept)"
   ]
  },
  {
   "cell_type": "code",
   "execution_count": null,
   "id": "df76ffe5",
   "metadata": {
    "colab": {
     "base_uri": "https://localhost:8080/"
    },
    "executionInfo": {
     "elapsed": 222,
     "status": "ok",
     "timestamp": 1737325235029,
     "user": {
      "displayName": "Benjamin Shaffrey",
      "userId": "11834509589280461112"
     },
     "user_tz": -60
    },
    "id": "df76ffe5",
    "outputId": "3a34bc6c-38d0-4b33-ce82-881c188a9b9f"
   },
   "outputs": [
    {
     "data": {
      "text/plain": [
       "array([0.04868788, 4.24302822])"
      ]
     },
     "execution_count": 31,
     "metadata": {},
     "output_type": "execute_result"
    }
   ],
   "source": [
    "np.polyfit(X, y, deg=1)\n",
    "\n",
    "# We can use the `polyfit` function from numpy \n",
    "# to calculate the linear regression coefficients. \n",
    "# \n",
    "# This step is redundant and only for training purposes. \n",
    "# There are far more useful methods to do this automatically\n",
    "# which we will see in the upcoming lectures.\n",
    "\n",
    "# Polyfit means polynomial fit. \n",
    "# A polynomial with a degree of 1 is a linear fit. \n",
    "# Keep that in mind."
   ]
  },
  {
   "cell_type": "code",
   "execution_count": null,
   "id": "e2f056d7",
   "metadata": {
    "executionInfo": {
     "elapsed": 339,
     "status": "ok",
     "timestamp": 1737325250174,
     "user": {
      "displayName": "Benjamin Shaffrey",
      "userId": "11834509589280461112"
     },
     "user_tz": -60
    },
    "id": "e2f056d7"
   },
   "outputs": [],
   "source": [
    "slope, intercept = np.polyfit(X, y, deg=1)\n",
    "\n",
    "# Slope is the coefficient of our independent feature.\n",
    "\n",
    "# Intercept is the y value when x=0"
   ]
  },
  {
   "cell_type": "code",
   "execution_count": 33,
   "id": "08d0bd02",
   "metadata": {
    "colab": {
     "base_uri": "https://localhost:8080/"
    },
    "executionInfo": {
     "elapsed": 223,
     "status": "ok",
     "timestamp": 1737325251906,
     "user": {
      "displayName": "Benjamin Shaffrey",
      "userId": "11834509589280461112"
     },
     "user_tz": -60
    },
    "id": "08d0bd02",
    "outputId": "9eff588f-277d-4194-df1e-988c32bc19d0"
   },
   "outputs": [
    {
     "name": "stdout",
     "output_type": "stream",
     "text": [
      "slope    : 0.04868787931904818\n",
      "intercept: 4.243028216036325\n"
     ]
    }
   ],
   "source": [
    "print(\"slope    :\", slope)\n",
    "print(\"intercept:\", intercept)"
   ]
  },
  {
   "cell_type": "markdown",
   "id": "environmental-platform",
   "metadata": {
    "id": "environmental-platform"
   },
   "source": [
    "## Why do we use the least squares error method to find the regression line that best fits the data?"
   ]
  },
  {
   "cell_type": "code",
   "execution_count": 34,
   "id": "56a823d6-53f5-4a48-9911-b6f7f63928c0",
   "metadata": {
    "executionInfo": {
     "elapsed": 194,
     "status": "ok",
     "timestamp": 1737325273129,
     "user": {
      "displayName": "Benjamin Shaffrey",
      "userId": "11834509589280461112"
     },
     "user_tz": -60
    },
    "id": "56a823d6-53f5-4a48-9911-b6f7f63928c0"
   },
   "outputs": [],
   "source": [
    "# y_pred = 0.04868787931904817*X + 4.243028216036326"
   ]
  },
  {
   "cell_type": "code",
   "execution_count": 35,
   "id": "d4ae8d15",
   "metadata": {
    "executionInfo": {
     "elapsed": 219,
     "status": "ok",
     "timestamp": 1737325275890,
     "user": {
      "displayName": "Benjamin Shaffrey",
      "userId": "11834509589280461112"
     },
     "user_tz": -60
    },
    "id": "d4ae8d15"
   },
   "outputs": [],
   "source": [
    "b1, b0 = np.polyfit(X, y, deg=1)\n",
    "\n",
    "# b1 = slope, b0= intercept"
   ]
  },
  {
   "cell_type": "code",
   "execution_count": 36,
   "id": "13ad0edb",
   "metadata": {
    "colab": {
     "base_uri": "https://localhost:8080/"
    },
    "executionInfo": {
     "elapsed": 233,
     "status": "ok",
     "timestamp": 1737325279381,
     "user": {
      "displayName": "Benjamin Shaffrey",
      "userId": "11834509589280461112"
     },
     "user_tz": -60
    },
    "id": "13ad0edb",
    "outputId": "35d3492f-d216-49ae-d1fc-431e26b0c2ab"
   },
   "outputs": [
    {
     "name": "stdout",
     "output_type": "stream",
     "text": [
      "b1 : 0.04868787931904818\n",
      "b0 : 4.243028216036325\n"
     ]
    }
   ],
   "source": [
    "print(\"b1 :\", b1)\n",
    "print(\"b0 :\", b0)"
   ]
  },
  {
   "cell_type": "code",
   "execution_count": 37,
   "id": "d1ce92f3",
   "metadata": {
    "colab": {
     "base_uri": "https://localhost:8080/",
     "height": 458
    },
    "executionInfo": {
     "elapsed": 219,
     "status": "ok",
     "timestamp": 1737325286250,
     "user": {
      "displayName": "Benjamin Shaffrey",
      "userId": "11834509589280461112"
     },
     "user_tz": -60
    },
    "id": "d1ce92f3",
    "outputId": "b49fc81c-dd3f-47cd-d063-203e7caa50f0"
   },
   "outputs": [
    {
     "data": {
      "text/plain": [
       "0      337.1\n",
       "1      128.9\n",
       "2      132.4\n",
       "3      251.3\n",
       "4      250.0\n",
       "       ...  \n",
       "195     55.7\n",
       "196    107.2\n",
       "197    192.7\n",
       "198    391.8\n",
       "199    249.4\n",
       "Name: total_spend, Length: 200, dtype: float64"
      ]
     },
     "execution_count": 37,
     "metadata": {},
     "output_type": "execute_result"
    }
   ],
   "source": [
    "X"
   ]
  },
  {
   "cell_type": "code",
   "execution_count": 38,
   "id": "metropolitan-stretch",
   "metadata": {
    "executionInfo": {
     "elapsed": 207,
     "status": "ok",
     "timestamp": 1737325289055,
     "user": {
      "displayName": "Benjamin Shaffrey",
      "userId": "11834509589280461112"
     },
     "user_tz": -60
    },
    "id": "metropolitan-stretch"
   },
   "outputs": [],
   "source": [
    "y_pred = b1*X + b0"
   ]
  },
  {
   "cell_type": "code",
   "execution_count": null,
   "id": "671a2e99",
   "metadata": {
    "colab": {
     "base_uri": "https://localhost:8080/",
     "height": 424
    },
    "executionInfo": {
     "elapsed": 238,
     "status": "ok",
     "timestamp": 1737325293350,
     "user": {
      "displayName": "Benjamin Shaffrey",
      "userId": "11834509589280461112"
     },
     "user_tz": -60
    },
    "id": "671a2e99",
    "outputId": "202a3bde-6391-458d-d38e-eb4c7d29d352"
   },
   "outputs": [
    {
     "data": {
      "text/html": [
       "<div>\n",
       "<style scoped>\n",
       "    .dataframe tbody tr th:only-of-type {\n",
       "        vertical-align: middle;\n",
       "    }\n",
       "\n",
       "    .dataframe tbody tr th {\n",
       "        vertical-align: top;\n",
       "    }\n",
       "\n",
       "    .dataframe thead th {\n",
       "        text-align: right;\n",
       "    }\n",
       "</style>\n",
       "<table border=\"1\" class=\"dataframe\">\n",
       "  <thead>\n",
       "    <tr style=\"text-align: right;\">\n",
       "      <th></th>\n",
       "      <th>actual</th>\n",
       "      <th>predicted</th>\n",
       "      <th>residual</th>\n",
       "      <th>LSE</th>\n",
       "      <th>ABS</th>\n",
       "    </tr>\n",
       "  </thead>\n",
       "  <tbody>\n",
       "    <tr>\n",
       "      <th>0</th>\n",
       "      <td>22.1</td>\n",
       "      <td>20.655712</td>\n",
       "      <td>1.444288</td>\n",
       "      <td>2.085967</td>\n",
       "      <td>1.444288</td>\n",
       "    </tr>\n",
       "    <tr>\n",
       "      <th>1</th>\n",
       "      <td>10.4</td>\n",
       "      <td>10.518896</td>\n",
       "      <td>-0.118896</td>\n",
       "      <td>0.014136</td>\n",
       "      <td>0.118896</td>\n",
       "    </tr>\n",
       "    <tr>\n",
       "      <th>2</th>\n",
       "      <td>9.3</td>\n",
       "      <td>10.689303</td>\n",
       "      <td>-1.389303</td>\n",
       "      <td>1.930164</td>\n",
       "      <td>1.389303</td>\n",
       "    </tr>\n",
       "    <tr>\n",
       "      <th>3</th>\n",
       "      <td>18.5</td>\n",
       "      <td>16.478292</td>\n",
       "      <td>2.021708</td>\n",
       "      <td>4.087302</td>\n",
       "      <td>2.021708</td>\n",
       "    </tr>\n",
       "    <tr>\n",
       "      <th>4</th>\n",
       "      <td>12.9</td>\n",
       "      <td>16.414998</td>\n",
       "      <td>-3.514998</td>\n",
       "      <td>12.355211</td>\n",
       "      <td>3.514998</td>\n",
       "    </tr>\n",
       "    <tr>\n",
       "      <th>...</th>\n",
       "      <td>...</td>\n",
       "      <td>...</td>\n",
       "      <td>...</td>\n",
       "      <td>...</td>\n",
       "      <td>...</td>\n",
       "    </tr>\n",
       "    <tr>\n",
       "      <th>195</th>\n",
       "      <td>7.6</td>\n",
       "      <td>6.954943</td>\n",
       "      <td>0.645057</td>\n",
       "      <td>0.416098</td>\n",
       "      <td>0.645057</td>\n",
       "    </tr>\n",
       "    <tr>\n",
       "      <th>196</th>\n",
       "      <td>9.7</td>\n",
       "      <td>9.462369</td>\n",
       "      <td>0.237631</td>\n",
       "      <td>0.056469</td>\n",
       "      <td>0.237631</td>\n",
       "    </tr>\n",
       "    <tr>\n",
       "      <th>197</th>\n",
       "      <td>12.8</td>\n",
       "      <td>13.625183</td>\n",
       "      <td>-0.825183</td>\n",
       "      <td>0.680926</td>\n",
       "      <td>0.825183</td>\n",
       "    </tr>\n",
       "    <tr>\n",
       "      <th>198</th>\n",
       "      <td>25.5</td>\n",
       "      <td>23.318939</td>\n",
       "      <td>2.181061</td>\n",
       "      <td>4.757026</td>\n",
       "      <td>2.181061</td>\n",
       "    </tr>\n",
       "    <tr>\n",
       "      <th>199</th>\n",
       "      <td>13.4</td>\n",
       "      <td>16.385785</td>\n",
       "      <td>-2.985785</td>\n",
       "      <td>8.914914</td>\n",
       "      <td>2.985785</td>\n",
       "    </tr>\n",
       "  </tbody>\n",
       "</table>\n",
       "<p>200 rows × 5 columns</p>\n",
       "</div>"
      ],
      "text/plain": [
       "     actual  predicted  residual        LSE       ABS\n",
       "0      22.1  20.655712  1.444288   2.085967  1.444288\n",
       "1      10.4  10.518896 -0.118896   0.014136  0.118896\n",
       "2       9.3  10.689303 -1.389303   1.930164  1.389303\n",
       "3      18.5  16.478292  2.021708   4.087302  2.021708\n",
       "4      12.9  16.414998 -3.514998  12.355211  3.514998\n",
       "..      ...        ...       ...        ...       ...\n",
       "195     7.6   6.954943  0.645057   0.416098  0.645057\n",
       "196     9.7   9.462369  0.237631   0.056469  0.237631\n",
       "197    12.8  13.625183 -0.825183   0.680926  0.825183\n",
       "198    25.5  23.318939  2.181061   4.757026  2.181061\n",
       "199    13.4  16.385785 -2.985785   8.914914  2.985785\n",
       "\n",
       "[200 rows x 5 columns]"
      ]
     },
     "execution_count": 39,
     "metadata": {},
     "output_type": "execute_result"
    }
   ],
   "source": [
    "values = {\"actual\": y, \"predicted\": y_pred, \"residual\":y-y_pred, \"LSE\": (y-y_pred)**2, \"ABS\":abs(y-y_pred)}\n",
    "df_2 = pd.DataFrame(values)\n",
    "df_2\n",
    "\n",
    "\n",
    "# LSE = least squared errors\n",
    "# ABS = absolute errors\n",
    "\n",
    "# Remember that LSE squares the residuals, hence penalises \n",
    "# high errors whereas ABS does not do that.\n",
    "\n",
    "# Which metric to use will depend on your use case. If you\n",
    "# have a lot of outliers in the dataset, LSE can be useful."
   ]
  },
  {
   "cell_type": "code",
   "execution_count": null,
   "id": "0e1e1340",
   "metadata": {
    "colab": {
     "base_uri": "https://localhost:8080/"
    },
    "executionInfo": {
     "elapsed": 188,
     "status": "ok",
     "timestamp": 1737325300118,
     "user": {
      "displayName": "Benjamin Shaffrey",
      "userId": "11834509589280461112"
     },
     "user_tz": -60
    },
    "id": "0e1e1340",
    "outputId": "ab28172f-3c90-42c7-8b54-d15efacb2821"
   },
   "outputs": [
    {
     "data": {
      "text/plain": [
       "-0.0"
      ]
     },
     "execution_count": 40,
     "metadata": {},
     "output_type": "execute_result"
    }
   ],
   "source": [
    "df_2.residual.sum().round()\n",
    "\n",
    "# Sum of residuals in linear regression will always\n",
    "# be (almost, considering floating point precision) \n",
    "# equal to 0."
   ]
  },
  {
   "cell_type": "markdown",
   "id": "steady-desktop",
   "metadata": {
    "id": "steady-desktop"
   },
   "source": [
    "## Prediction with simple linear regression"
   ]
  },
  {
   "cell_type": "code",
   "execution_count": null,
   "id": "36671360",
   "metadata": {
    "colab": {
     "base_uri": "https://localhost:8080/"
    },
    "executionInfo": {
     "elapsed": 221,
     "status": "ok",
     "timestamp": 1737325304786,
     "user": {
      "displayName": "Benjamin Shaffrey",
      "userId": "11834509589280461112"
     },
     "user_tz": -60
    },
    "id": "36671360",
    "outputId": "fb30fe66-a709-474e-a58b-cffb2222c123"
   },
   "outputs": [
    {
     "data": {
      "text/plain": [
       "array([  0.        ,   5.05050505,  10.1010101 ,  15.15151515,\n",
       "        20.2020202 ,  25.25252525,  30.3030303 ,  35.35353535,\n",
       "        40.4040404 ,  45.45454545,  50.50505051,  55.55555556,\n",
       "        60.60606061,  65.65656566,  70.70707071,  75.75757576,\n",
       "        80.80808081,  85.85858586,  90.90909091,  95.95959596,\n",
       "       101.01010101, 106.06060606, 111.11111111, 116.16161616,\n",
       "       121.21212121, 126.26262626, 131.31313131, 136.36363636,\n",
       "       141.41414141, 146.46464646, 151.51515152, 156.56565657,\n",
       "       161.61616162, 166.66666667, 171.71717172, 176.76767677,\n",
       "       181.81818182, 186.86868687, 191.91919192, 196.96969697,\n",
       "       202.02020202, 207.07070707, 212.12121212, 217.17171717,\n",
       "       222.22222222, 227.27272727, 232.32323232, 237.37373737,\n",
       "       242.42424242, 247.47474747, 252.52525253, 257.57575758,\n",
       "       262.62626263, 267.67676768, 272.72727273, 277.77777778,\n",
       "       282.82828283, 287.87878788, 292.92929293, 297.97979798,\n",
       "       303.03030303, 308.08080808, 313.13131313, 318.18181818,\n",
       "       323.23232323, 328.28282828, 333.33333333, 338.38383838,\n",
       "       343.43434343, 348.48484848, 353.53535354, 358.58585859,\n",
       "       363.63636364, 368.68686869, 373.73737374, 378.78787879,\n",
       "       383.83838384, 388.88888889, 393.93939394, 398.98989899,\n",
       "       404.04040404, 409.09090909, 414.14141414, 419.19191919,\n",
       "       424.24242424, 429.29292929, 434.34343434, 439.39393939,\n",
       "       444.44444444, 449.49494949, 454.54545455, 459.5959596 ,\n",
       "       464.64646465, 469.6969697 , 474.74747475, 479.7979798 ,\n",
       "       484.84848485, 489.8989899 , 494.94949495, 500.        ])"
      ]
     },
     "execution_count": 41,
     "metadata": {},
     "output_type": "execute_result"
    }
   ],
   "source": [
    "potential_spend = np.linspace(0, 500, 100)\n",
    "potential_spend\n",
    "\n",
    "# Create a dummy set of observations to get \n",
    "# inference (predictions) on. \n",
    "# \n",
    "# These data points are linearly spaced between 0 and 500."
   ]
  },
  {
   "cell_type": "code",
   "execution_count": 42,
   "id": "41026372",
   "metadata": {
    "colab": {
     "base_uri": "https://localhost:8080/"
    },
    "executionInfo": {
     "elapsed": 251,
     "status": "ok",
     "timestamp": 1737325310966,
     "user": {
      "displayName": "Benjamin Shaffrey",
      "userId": "11834509589280461112"
     },
     "user_tz": -60
    },
    "id": "41026372",
    "outputId": "da28616e-6545-4fff-e27c-ac454bf720ac"
   },
   "outputs": [
    {
     "data": {
      "text/plain": [
       "array([ 4.24302822,  4.4889266 ,  4.73482498,  4.98072336,  5.22662174,\n",
       "        5.47252012,  5.7184185 ,  5.96431688,  6.21021526,  6.45611364,\n",
       "        6.70201202,  6.9479104 ,  7.19380878,  7.43970716,  7.68560554,\n",
       "        7.93150392,  8.1774023 ,  8.42330068,  8.66919906,  8.91509744,\n",
       "        9.16099582,  9.4068942 ,  9.65279258,  9.89869097, 10.14458935,\n",
       "       10.39048773, 10.63638611, 10.88228449, 11.12818287, 11.37408125,\n",
       "       11.61997963, 11.86587801, 12.11177639, 12.35767477, 12.60357315,\n",
       "       12.84947153, 13.09536991, 13.34126829, 13.58716667, 13.83306505,\n",
       "       14.07896343, 14.32486181, 14.57076019, 14.81665857, 15.06255695,\n",
       "       15.30845533, 15.55435371, 15.80025209, 16.04615048, 16.29204886,\n",
       "       16.53794724, 16.78384562, 17.029744  , 17.27564238, 17.52154076,\n",
       "       17.76743914, 18.01333752, 18.2592359 , 18.50513428, 18.75103266,\n",
       "       18.99693104, 19.24282942, 19.4887278 , 19.73462618, 19.98052456,\n",
       "       20.22642294, 20.47232132, 20.7182197 , 20.96411808, 21.21001646,\n",
       "       21.45591484, 21.70181322, 21.9477116 , 22.19360999, 22.43950837,\n",
       "       22.68540675, 22.93130513, 23.17720351, 23.42310189, 23.66900027,\n",
       "       23.91489865, 24.16079703, 24.40669541, 24.65259379, 24.89849217,\n",
       "       25.14439055, 25.39028893, 25.63618731, 25.88208569, 26.12798407,\n",
       "       26.37388245, 26.61978083, 26.86567921, 27.11157759, 27.35747597,\n",
       "       27.60337435, 27.84927273, 28.09517111, 28.3410695 , 28.58696788])"
      ]
     },
     "execution_count": 42,
     "metadata": {},
     "output_type": "execute_result"
    }
   ],
   "source": [
    "predicted_sales_lin = b1* potential_spend + b0\n",
    "predicted_sales_lin"
   ]
  },
  {
   "cell_type": "code",
   "execution_count": null,
   "id": "55044e2c",
   "metadata": {
    "id": "55044e2c"
   },
   "outputs": [],
   "source": []
  }
 ],
 "metadata": {
  "colab": {
   "provenance": []
  },
  "kernelspec": {
   "display_name": "base",
   "language": "python",
   "name": "python3"
  },
  "language_info": {
   "codemirror_mode": {
    "name": "ipython",
    "version": 3
   },
   "file_extension": ".py",
   "mimetype": "text/x-python",
   "name": "python",
   "nbconvert_exporter": "python",
   "pygments_lexer": "ipython3",
   "version": "3.12.2"
  },
  "toc": {
   "base_numbering": 1,
   "nav_menu": {},
   "number_sections": true,
   "sideBar": true,
   "skip_h1_title": false,
   "title_cell": "Table of Contents",
   "title_sidebar": "Contents",
   "toc_cell": false,
   "toc_position": {},
   "toc_section_display": true,
   "toc_window_display": false
  }
 },
 "nbformat": 4,
 "nbformat_minor": 5
}
